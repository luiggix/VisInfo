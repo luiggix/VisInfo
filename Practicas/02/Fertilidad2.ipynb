{
 "cells": [
  {
   "cell_type": "markdown",
   "metadata": {},
   "source": [
    "# Práctica 2.\n",
    "## Visualización de la información\n",
    "\n",
    "### Prof. Luis Miguel de la Cruz Salas\n",
    "\n",
    "Realizar un análisis complementario de la fertilidad mundial comparando con otros factores de desarrollo.\n",
    "\n",
    "Usaremos la misma información de la práctica 1, así como los scripts que se desarrollaron en ella para continuar con esta práctica 2."
   ]
  },
  {
   "cell_type": "markdown",
   "metadata": {},
   "source": [
    "### Paso 1. \n",
    "Incluimos las bibliotecas necesarias para la lectura de datos y para la visualización."
   ]
  },
  {
   "cell_type": "code",
   "execution_count": null,
   "metadata": {},
   "outputs": [],
   "source": [
    "import numpy as np\n",
    "import matplotlib.pyplot as plt\n",
    "import pandas as pd\n",
    "%matplotlib inline"
   ]
  },
  {
   "cell_type": "markdown",
   "metadata": {},
   "source": [
    "En esta práctica usaremos un estilo de fondo obscuro con texto y gráficos claros. Para ello haremos lo siguiente:"
   ]
  },
  {
   "cell_type": "code",
   "execution_count": null,
   "metadata": {},
   "outputs": [],
   "source": [
    "# Cambiamos el estilo a:\n",
    "plt.style.use(\"seaborn-dark\")\n",
    "\n",
    "# Modificamos algunos parámetros generales de la gráfica:\n",
    "for param in ['figure.facecolor', 'axes.facecolor', 'savefig.facecolor']:\n",
    "    plt.rcParams[param] = '#202946'  # bluish dark grey\n",
    "\n",
    "for param in ['text.color', 'axes.labelcolor', 'xtick.color', 'ytick.color']:\n",
    "    plt.rcParams[param] = 'white'  # very light grey"
   ]
  },
  {
   "cell_type": "markdown",
   "metadata": {},
   "source": [
    "### Paso 2. \n",
    "Usamos la misma información de la práctica 1."
   ]
  },
  {
   "cell_type": "code",
   "execution_count": null,
   "metadata": {},
   "outputs": [],
   "source": [
    "fertilidad = pd.read_csv('../01/UNdata_Export_20200418_014346536.csv')\n",
    "\n",
    "# Se agrupa por país \n",
    "paises = fertilidad.groupby('Country or Area')"
   ]
  },
  {
   "cell_type": "markdown",
   "metadata": {},
   "source": [
    "### Paso 3. \n",
    "Ponemos todos los scripts de la práctica 1, con algunas modificacines, en funciones como sigue:"
   ]
  },
  {
   "cell_type": "code",
   "execution_count": null,
   "metadata": {},
   "outputs": [],
   "source": [
    "from math import ceil\n",
    "\n",
    "def maxminTicks(paises):\n",
    "    \"\"\"\n",
    "    Calcula el máximo y el mínimo de todos los países y los yticks.\n",
    "    \n",
    "    Parameters\n",
    "    ----------\n",
    "    paises : DataFrameGroupBy\n",
    "        Dataframe generado por GroupBy con la información de los países.\n",
    "        \n",
    "    Returns\n",
    "    -------\n",
    "    p_max, y_max, yticks, p_min, y_min \n",
    "        El país con el máximo valor, el valor máximo, la lista para los yticks,\n",
    "        el país con el valor mínimo y el valor mínimo.\n",
    "    \"\"\"\n",
    "    y_max = 0\n",
    "    y_min = 10\n",
    "    for p in paises.groups.keys():\n",
    "        temporal = paises.get_group(p)['Value'].max()\n",
    "        if y_max < temporal:\n",
    "            y_max = temporal\n",
    "            p_max = p\n",
    "            \n",
    "        temporal = paises.get_group(p)['Value'].min()\n",
    "        if y_min > temporal:\n",
    "            y_min = temporal\n",
    "            p_min = p        \n",
    "        \n",
    "    yticks = [i for i in range(0,ceil(y_max)+1)]\n",
    "    return p_max, y_max, yticks, p_min, y_min\n",
    "\n",
    "def inicializaGrafica(y_maximo, yticks):\n",
    "    \"\"\"\n",
    "    Inicializa algunos parámetros de la figura (el canvas).\n",
    "    \n",
    "    Parameters\n",
    "    ----------\n",
    "    y_maximo : int\n",
    "        Valor máximo para el eje y.\n",
    "    \n",
    "    yticks : list\n",
    "        Lista de valores para los ticks en el eje y.\n",
    "    \"\"\"\n",
    "    fig = plt.figure(figsize=(10,10)) # Cambiamos el tamaño de la figura\n",
    "    plt.xticks(rotation=70, fontsize=10)\n",
    "    plt.xlim(14,-2,-1)\n",
    "    plt.ylim(0,y_maximo)   # Límites en el eje y (usamos y_maximo)\n",
    "    plt.yticks(yticks)     # Marcas en el eje y\n",
    "    plt.grid(ls='--', lw=0.5, c='#AAAAAA') # Rejilla en color adecuado para fondo negro.\n",
    "\n",
    "    # Información adicional y títulos\n",
    "    plt.title('Promedio de número de hijos por mujer', loc='left', fontsize=12)\n",
    "    plt.title('fuente: http://data.un.org', loc='right', fontstyle='italic', fontsize=10, c='cyan')\n",
    "    plt.suptitle(' Comparación de la fertilidad', y = 0.94, fontsize=14)\n",
    "\n",
    "    ejes = plt.gca() # Obtenemos los ejes y eliminamos las spines\n",
    "    ejes.spines['right'].set_visible(False)\n",
    "    ejes.spines['top'].set_visible(False)\n",
    "    ejes.spines['left'].set_visible(False)\n",
    "    ejes.spines['bottom'].set_visible(False)\n",
    "    \n",
    "    # Modificamos algunos parámetros de los ticks en el eje y\n",
    "    ejes.tick_params(axis='y', width=1, length=25)\n",
    "    \n",
    "    # Realizamos algunas anotaciones sobre el gráfico base\n",
    "    plt.annotate('Nivel de \\n reemplazo: \\n promedio = 2.1', xy=(11.5, 2.095), xytext=(11.5, 1.0),\n",
    "                 bbox=dict(boxstyle='round', facecolor='green', edgecolor='white', alpha=0.5, linewidth=0.75),\n",
    "                 arrowprops=dict(arrowstyle='->', facecolor='white', edgecolor='white'),\n",
    "                 fontsize=10, color='white', horizontalalignment='center')\n",
    "\n",
    "    plt.text(2, 8.25, 'Cada línea representa la \\n evolución del promedio  \\n de hijos por mujer en un país',                   \n",
    "             transform=plt.gca().transData, \n",
    "             horizontalalignment='center', color='white',\n",
    "             bbox=dict(boxstyle='round', facecolor='green', edgecolor='white', alpha=0.5, linewidth=0.75))  \n",
    "        \n",
    "def graficaFertilidad(paises, parametros={}):\n",
    "    \"\"\"\n",
    "    Realiza la gráfica de todos los países.\n",
    "    \n",
    "    Parameters\n",
    "    ----------\n",
    "    paises : DataFrameGroupBy\n",
    "        Dataframe generado por GroupBy con la información de los países.\n",
    "    \n",
    "    parametros : dict\n",
    "        Parámetros para generar la gráfica.\n",
    "    \"\"\"\n",
    "    for p in paises.groups.keys():\n",
    "        pais = paises.get_group(p)\n",
    "        plt.plot(pais['Year(s)'], pais['Value'], **parametros) \n",
    "        \n",
    "    # Al final de todas las gráficas ponemos la del nivel de reemplazo \n",
    "    plt.plot([14,-1],[2.1,2.1], 'w--', lw=2.0, zorder=1000)\n",
    "        \n",
    "def graficaFertilidadUnPais(paises, p, parametros={}, par_glow = None):\n",
    "    \"\"\"\n",
    "    Realiza la gráfica de un solo país con realce para fondo negro.\n",
    "    \n",
    "    Parameters\n",
    "    ----------\n",
    "    paises : DataFrameGroupBy\n",
    "        Dataframe generado por GroupBy con la información de los países.\n",
    "    \n",
    "    parametros : dict\n",
    "        Parámetros para generar la gráfica.\n",
    "    \n",
    "    par_glow : dict\n",
    "        Diccionario con los parámetros para resaltar las curvas con un \"halo\" \n",
    "        a su alrededor. Cuando par_glow = None (defalt) no se hace nada. En otro\n",
    "        caso es conveniente pasar la transparencia y el color. Esta\n",
    "        curva se dibuja por detrás de la curva principal, con un ancho mayor y el\n",
    "        color definido\n",
    "        Ejemplo:\n",
    "                par_glow = {'alpha':0.4, 'c':'yellow'}\n",
    "    \"\"\"\n",
    "    pais = paises.get_group(p)\n",
    "\n",
    "    if par_glow:\n",
    "    # Se grafica una curva con una línea 3 veces más ancha que la original\n",
    "    # y transparente para resaltarla. \n",
    "        plt.plot(pais['Year(s)'], pais['Value'], lw=parametros['lw']*3, **par_glow)\n",
    "\n",
    "    # Se grafica la curva del país con los parámetros necesarios.\n",
    "    line = plt.plot(pais['Year(s)'], pais['Value'], **parametros)\n",
    "\n",
    "    # Ponemos un texto al final de la curva para mostrar el \n",
    "    # nombre del país y el valor final de fertilidad\n",
    "    pais_val = pais['Value'].iloc[0]\n",
    "    plt.text(x = 0, y = pais_val, \n",
    "             s = ' {} {:1.2f}'.format(p, pais_val), \n",
    "             c = line[0].get_color(), weight = 'bold')\n",
    "    \n",
    "    # Ponemos el valor inicial de fertilidad al principio de la curva.\n",
    "    pais_val = pais['Value'].iloc[-1] \n",
    "    plt.text(x = 13.75, y = pais_val, \n",
    "             s = '{:1.2f} '.format(pais_val), \n",
    "             c = line[0].get_color(), weight = 'bold')"
   ]
  },
  {
   "cell_type": "markdown",
   "metadata": {},
   "source": [
    "### Paso 4. \n",
    "Calculamos el máximo en el eje $y$ y los `yticks` y posteriormente hacemos la gráfica base."
   ]
  },
  {
   "cell_type": "code",
   "execution_count": null,
   "metadata": {},
   "outputs": [],
   "source": [
    "p_max, y_maximo, yticks, p_min, y_min = maxminTicks(paises)\n",
    "print(p_max, y_maximo, yticks)\n",
    "print(p_min, y_min)"
   ]
  },
  {
   "cell_type": "code",
   "execution_count": null,
   "metadata": {},
   "outputs": [],
   "source": [
    "# Hacemos la gráfica base\n",
    "inicializaGrafica(y_maximo, yticks)\n",
    "graficaFertilidad(paises, {'lw':0.5, 'c':'#AAAAAA'})"
   ]
  },
  {
   "cell_type": "markdown",
   "metadata": {},
   "source": [
    "Este es ahora nuestro lienzo listo para agregar información."
   ]
  },
  {
   "cell_type": "markdown",
   "metadata": {},
   "source": [
    "### Paso 5.\n",
    "Definimos un conjunto de países a ser graficados y sus colores correspondientes. Esta elección se basa en el  GDP (Gross Domestic Product), véase la siguiente figura:\n",
    "\n",
    "<img src=\"./PerCapitaIncome.png\"  style=\"width: 800px;\"/>\n"
   ]
  },
  {
   "cell_type": "markdown",
   "metadata": {},
   "source": [
    "De acuerdo con la gráfica anterior, vamos a elegir países con diferente GDP y diferente zona geográfica, en este caso serán: México, USA, Japón, Alemania, Egipto, Argentina, Nigeria. Además agregamos a los países que hayan tenido el máximo y el mínimo de fertilidad en el rango de tiempo estudiado. "
   ]
  },
  {
   "cell_type": "code",
   "execution_count": null,
   "metadata": {},
   "outputs": [],
   "source": [
    "paises_colores = {\n",
    "    'Mexico'                   : '#00ff41',  # matrix green\n",
    "    p_max                      : 'red',     \n",
    "    'United States of America' : 'blueviolet',\n",
    "    'Japan'                    : '#FE53BB',  # pink\n",
    "    'Germany'                  : '#F5D300',  # yellow\n",
    "    p_min                      : '#08F7FE',  # teal/cyan\n",
    "    'Egypt'                    : '#1986FE',\n",
    "    'Argentina'                : 'salmon',\n",
    "    'Nigeria'                  : 'yellow',\n",
    "    'World'                    : '#EEEEEE'   # cuasi-blanco, Datos promedio mundiales\n",
    "}"
   ]
  },
  {
   "cell_type": "markdown",
   "metadata": {},
   "source": [
    "### Paso 6.\n",
    "Realizamos las gráficas para estos países."
   ]
  },
  {
   "cell_type": "code",
   "execution_count": null,
   "metadata": {},
   "outputs": [],
   "source": [
    "# Hacemos la gráfica base\n",
    "inicializaGrafica(y_maximo, yticks)\n",
    "graficaFertilidad(paises, {'lw':0.5, 'c':'#AAAAAA'})\n",
    "\n",
    "# Hacemos la gráfica para los países definidos antes para hacer la comparación entre ellos.\n",
    "for p, c in paises_colores.items():\n",
    "    par = {'lw':3.0, 'c':c}\n",
    "    graficaFertilidadUnPais(paises, p, par)\n",
    "\n",
    "plt.savefig('fertilidad01.pdf')"
   ]
  },
  {
   "cell_type": "markdown",
   "metadata": {},
   "source": [
    "Si puso atención, en la definición de la función `graficaFertilidadUnPais()` hay un parámetro\n",
    "para resaltar las gráficas en el fondo obscuro. Usaremos ese parámetro como sigue:"
   ]
  },
  {
   "cell_type": "code",
   "execution_count": null,
   "metadata": {},
   "outputs": [],
   "source": [
    "# Hacemos la gráfica base\n",
    "inicializaGrafica(y_maximo, yticks)\n",
    "graficaFertilidad(paises, {'lw':0.5, 'c':'#AAAAAA'})\n",
    "\n",
    "# Hacemos la gráfica para los países definidos antes para hacer la comparación entre ellos.\n",
    "for p, c in paises_colores.items():\n",
    "    par = {'lw':3.0, 'c':c, 'marker':'o'}\n",
    "    par_glow = {'alpha':0.4, 'c':c}                   # Parámetros para poner \"brillo\" a las curvas\n",
    "    graficaFertilidadUnPais(paises, p, par, par_glow) # Pasamos los parámetros a la función\n",
    "    \n",
    "plt.savefig('fertilidad02.pdf')"
   ]
  },
  {
   "cell_type": "markdown",
   "metadata": {},
   "source": [
    "En esta visualización intentamos graficar países de los diferentes continentes y con un GDP (Gross Domestic Product, en miles de millones de dolares) diferente: USA (20,544), Japon (4,971), Alemania (3,948), Mexico (1,221), Argentina (519), Egipto (250), Macao SAR (55), Yemen (27), Nigeria (9). (Información tomada de https://data.worldbank.org/country). Observamos que no necesariamente entre menos GDP mayor fertilidad, véase por ejemplo el caso de Macao SAR. Sin embargo, en general si se observa que los países con mayor GDP tienden a bajar el número de hijos por mujer por debajo del NR. Los tres países que en esta visualización se ven com mayor fertilidad (Egipto, Yemen y Nigeria) tienen un GPD bajo, comparado con los otros países, pero todos han reducido su porcentaje de fertilidad. Nigeria es un caso particular, pues solo ha bajado de 6.35 en 1955 a 5.42 en 2020.  "
   ]
  },
  {
   "cell_type": "markdown",
   "metadata": {},
   "source": [
    "### Paso 7.\n",
    "Vamos ahora a complementar esta visualización con información del GPD per capita en cada país.\n",
    "\n",
    "Obtenemos la información de los ingresos por persona en cada país de http://data.un.org haciendo la búsqueda como se muestra en la siguiente figura:\n",
    "\n",
    "<img src=\"./PerCapita.png\"  style=\"width: 800px;\"/>\n",
    "\n",
    "**Observación** : los datos son solo para el año 2010, que es el año en el que vamos a realizar la comparación. Por esta razón tomaremos los datos de la década 2005-2010 para el caso de la fertilidad (esta información se encuentra en el lugar 2 del arreglo de cada país, véanse las gráficas anteriores y recuérdese que el eje $x$ fue invertido)."
   ]
  },
  {
   "cell_type": "code",
   "execution_count": null,
   "metadata": {},
   "outputs": [],
   "source": [
    "# Leemos el archivo que obtiene en un DataFrame\n",
    "per_capita_income = pd.read_csv('UNdata_Export_20200423_213109354.csv')\n",
    "pd.set_option('display.max_rows', None) # Para poder ver todo el dataframe\n",
    "per_capita_income"
   ]
  },
  {
   "cell_type": "code",
   "execution_count": null,
   "metadata": {},
   "outputs": [],
   "source": [
    "pd.set_option('display.max_rows', 15) # Regreso a un número limitado de renglones por despliegue de dataframe"
   ]
  },
  {
   "cell_type": "markdown",
   "metadata": {},
   "source": [
    "### Paso 8.\n",
    "Observamos que el número de países listados en los dos dataframes, el de fertilidad y el de ingresos, es diferente, así que necesitamos ajustarlos para poder hacer una comparación entre ellos."
   ]
  },
  {
   "cell_type": "code",
   "execution_count": null,
   "metadata": {},
   "outputs": [],
   "source": [
    "# Se agrupa por país la información de los ingresos \n",
    "# (para acceder más fácil y de manera similar a como se hace con la info de fertilidad)\n",
    "ingreso_pais = per_capita_income.groupby('Country or Area')"
   ]
  },
  {
   "cell_type": "code",
   "execution_count": null,
   "metadata": {},
   "outputs": [],
   "source": [
    "print(len(paises.groups.keys()), len(per_capita_income)) # La longitud es diferente para cada dataframe"
   ]
  },
  {
   "cell_type": "code",
   "execution_count": null,
   "metadata": {},
   "outputs": [],
   "source": [
    "# Se obtiene la lista de países a comparar:\n",
    "lista_paises_final = []\n",
    "\n",
    "for p in paises.groups.keys():     # Hacemos el recorrido usando el DataFrame de mayor longitud (paises)\n",
    "    try:                           # Con este try aseguramos que se tiene la misma info en cada DataFrame\n",
    "        ingreso_pais.get_group(p)  # Intentamos obtener el ingreso del país 'p', si no hay se lanza la excepción. \n",
    "        lista_paises_final.append(p) # Si se tuvo éxito en las dos líneas anteriores entonces se agrega el país a la lista final.\n",
    "    except KeyError: # Aquí se captura la excepción de tipo KeyError, que es la que producen las líneas de arriba,\n",
    "        continue     # Lo único que hacemos es saltarnos el país que no está en ambos DataFrames y continuar con el siguiente.\n",
    "        \n",
    "print('Lista final de países en ambos Dataframes : ', len(lista_paises_final), '\\n')\n",
    "print(lista_paises_final)"
   ]
  },
  {
   "cell_type": "code",
   "execution_count": null,
   "metadata": {},
   "outputs": [],
   "source": [
    "# Ahora creamos dos listas, una para la fertilidad y otra para el ingreso con los países a comparar:\n",
    "l_fertilidad = []\n",
    "l_ingreso = []\n",
    "for p in lista_paises_final:\n",
    "    l_fertilidad.append(paises.get_group(p)['Value'].iloc[2])  # El lugar 2 corresponde a los datos para 2010\n",
    "    l_ingreso.append(ingreso_pais.get_group(p)['Value'].iloc[0]) # Solo se tiene el dato para 2010\n",
    "\n",
    "print('\\nFertilidad: \\n', len(l_fertilidad), l_fertilidad)\n",
    "print('\\nIngresos: \\n', len(l_ingreso), l_ingreso)"
   ]
  },
  {
   "cell_type": "markdown",
   "metadata": {},
   "source": [
    "**Obsérvese** que se tienen `nan` en algunos lugares de la lista de fertilidad, lo que significa que no se tiene información completa para algunos países. Tomaremos esto en cuenta más adelante."
   ]
  },
  {
   "cell_type": "markdown",
   "metadata": {},
   "source": [
    "### Paso 9.\n",
    "Ahora haremos la gráfica de esta información usando puntos en el plano."
   ]
  },
  {
   "cell_type": "code",
   "execution_count": null,
   "metadata": {},
   "outputs": [],
   "source": [
    "fig = plt.figure(figsize=(10,6)) # Cambiamos el tamaño de la figura\n",
    "\n",
    "# Graficamos el ingreso (eje $y$) en función de la fertilidad (eje $x$)\n",
    "# Usamos un color gris tenue y con transparencia. En este caso, este\n",
    "# será nuestro lienzo base para lo demás.\n",
    "plt.scatter(l_fertilidad, l_ingreso, marker='o', color='#DEDEDE', alpha=0.5) \n",
    "\n",
    "# Información adicional y títulos\n",
    "plt.title('fuente: http://data.un.org', loc='right', fontstyle='italic', fontsize=10, c='cyan')\n",
    "plt.suptitle(' Fertilidad vs Ingreso ', y = 0.94, fontsize=14)\n",
    "    \n",
    "plt.grid(ls='--', lw=0.5, c='#AAAAAA')\n",
    "plt.xlabel('Fertilidad [No. de hijos por mujer]')\n",
    "plt.ylabel('Ingresos [USD/Año]')"
   ]
  },
  {
   "cell_type": "markdown",
   "metadata": {},
   "source": [
    "Observamos en la visualización anterior que los puntos se aglomeran en ciertas zonas del espacio. Se puede ver un comportamiento exponencial decreciente conforme aumenta la fertilidad. Es decir, entre más ingresos, menor es la fertilidad. \n",
    "\n",
    "Vamos a completar la visualización anterior, resaltando los países que elegimos en el paso 5 (probablemente algunos no aparezcan debido a que ajustamos la información en el paso 8)."
   ]
  },
  {
   "cell_type": "code",
   "execution_count": null,
   "metadata": {},
   "outputs": [],
   "source": [
    "fig = plt.figure(figsize=(10,6)) # Cambiamos el tamaño de la figura\n",
    "\n",
    "# Graficamos el ingreso (eje $y$) en función de la fertilidad (eje $x$)\n",
    "# Usamos un color gris tenue y con transparencia. En este caso, esta \n",
    "# será nuestro lienzo base para lo demás.\n",
    "plt.scatter(l_fertilidad, l_ingreso, marker='o', color='#DEDEDE', alpha=0.5) \n",
    "\n",
    "# Información adicional y títulos\n",
    "plt.title('fuente: http://data.un.org', loc='right', fontstyle='italic', fontsize=10, c='cyan')\n",
    "plt.suptitle(' Fertilidad vs Ingreso ', y = 0.94, fontsize=14)\n",
    "    \n",
    "plt.grid(ls='--', lw=0.5, c='#AAAAAA')\n",
    "plt.xlabel('Fertilidad [No. de hijos por mujer]')\n",
    "plt.ylabel('Ingresos [USD/Año]')\n",
    "\n",
    "# Gráfica de los países elegidos en el paso 5 usando puntos de colores y resaltados.\n",
    "for p, c in paises_colores.items():\n",
    "    try:\n",
    "        ip = lista_paises_final.index(p)\n",
    "        plt.scatter(l_fertilidad[ip], l_ingreso[ip], \n",
    "                    marker='o', s=100,\n",
    "                    facecolor=c, edgecolor='w', alpha=0.75,\n",
    "                    zorder=1000, label=p)\n",
    "    except ValueError:\n",
    "        continue\n",
    "\n",
    "plt.legend()"
   ]
  },
  {
   "cell_type": "markdown",
   "metadata": {},
   "source": [
    "### Paso 10.\n",
    "Dada la tendencia que se observa en esta gráfica, vamos a intentar ajustar una curva a los datos."
   ]
  },
  {
   "cell_type": "code",
   "execution_count": null,
   "metadata": {},
   "outputs": [],
   "source": [
    "# Usaremos en este caso la función curve_fit.\n",
    "from scipy.optimize import curve_fit\n",
    "\n",
    "# La función que queremos ajustar: exponencial decreciente.\n",
    "def func(x, a, b, c):\n",
    "    return a * np.exp(-b * x) + c\n",
    "\n",
    "# Vamos a limpiar los datos, pues existen algunos 'nan' en ellos, \n",
    "# particularmente en la fertilidad.\n",
    "xdata = []\n",
    "ydata = []\n",
    "for lf, li in zip(l_fertilidad, l_ingreso):\n",
    "    if ~np.isnan(lf):\n",
    "        xdata.append(lf)\n",
    "        ydata.append(li)\n",
    "    \n",
    "# Con las listas xdata y ydata ya podemos hacer el ajuste\n",
    "popt, pcov = curve_fit(func, xdata, ydata)\n",
    "perr = np.sqrt(np.diag(pcov))"
   ]
  },
  {
   "cell_type": "code",
   "execution_count": null,
   "metadata": {},
   "outputs": [],
   "source": [
    "# Graficamos el ajuste para ver cómo quedó\n",
    "x = np.linspace(1,9,100)\n",
    "y = func(x, *popt)\n",
    "plt.plot(x, y, 'r-',label='fit: a={:5.3f}, b={:5.3}, c={:5.3f}'.format(popt[0], popt[1], popt[2]))\n",
    "plt.legend()"
   ]
  },
  {
   "cell_type": "markdown",
   "metadata": {},
   "source": [
    "Finalmente graficamos todo junto:"
   ]
  },
  {
   "cell_type": "code",
   "execution_count": null,
   "metadata": {},
   "outputs": [],
   "source": [
    "fig = plt.figure(figsize=(10,6)) # Cambiamos el tamaño de la figura\n",
    "\n",
    "# Graficamos el ingreso (eje $y$) en función de la fertilidad (eje $x$)\n",
    "# Usamos un color gris tenue y con transparencia. En este caso, esta \n",
    "# será nuestro lienzo base para lo demás.\n",
    "plt.scatter(l_fertilidad, l_ingreso, marker='o', color='#DEDEDE', alpha=0.5) \n",
    "\n",
    "# Información adicional y títulos\n",
    "plt.title('fuente: http://data.un.org', loc='right', fontstyle='italic', fontsize=10, c='cyan')\n",
    "plt.suptitle(' Fertilidad vs Ingreso ', y = 0.94, fontsize=14)\n",
    "    \n",
    "plt.grid(ls='--', lw=0.5, c='#AAAAAA')\n",
    "plt.xlabel('Fertilidad [No. de hijos por mujer]')\n",
    "plt.ylabel('Ingresos [USD/Año]')\n",
    "\n",
    "# Gráfica de los países elegido en el paso 5 usando puntos de colores y resaltados.\n",
    "for p, c in paises_colores.items():\n",
    "    try:\n",
    "        ip = lista_paises_final.index(p)\n",
    "        plt.scatter(l_fertilidad[ip], l_ingreso[ip], \n",
    "                    marker='o', s=100,\n",
    "                    facecolor=c, edgecolor='w', alpha=0.75,\n",
    "                    zorder=1000, label=p)\n",
    "    except ValueError:\n",
    "        continue\n",
    "\n",
    "# Gráfica del ajuste resaltada!\n",
    "plt.plot(x, y, 'r-', lw=8.0, alpha=0.4)\n",
    "plt.plot(x, y, 'r-', lw=3.0, label='fit: a={:5.3f}, b={:5.3}, c={:5.3f}'.format(popt[0], popt[1], popt[2]))\n",
    "\n",
    "plt.legend()\n",
    "plt.savefig('fertilidad03_ajuste.pdf')"
   ]
  },
  {
   "cell_type": "markdown",
   "metadata": {},
   "source": [
    "¿Que podría mejorar de esta visualización? (colores, dimensiones, anotaciones, leyendas, ajuste, etc.)"
   ]
  },
  {
   "cell_type": "markdown",
   "metadata": {},
   "source": [
    "### Paso 11.\n",
    "Vamos ahora realizar una visualización similar pero con información del nivel de educación en cada país.\n",
    "\n",
    "Obtenemos la información de http://data.un.org haciendo la búsqueda que se muestra en la siguiente figura:\n",
    "\n",
    "<img src=\"./Educacion.png\"  style=\"width: 800px;\"/>\n",
    "\n",
    "**Observación** : igual que en el caso del ingreso, los datos son solo para el año 2010, que es el año en el que vamos a realizar la comparación."
   ]
  },
  {
   "cell_type": "code",
   "execution_count": null,
   "metadata": {},
   "outputs": [],
   "source": [
    "# Leemos el archivo generado \n",
    "educacion = pd.read_csv('UNdata_Export_20200423_221351665.csv')\n",
    "educacion"
   ]
  },
  {
   "cell_type": "markdown",
   "metadata": {},
   "source": [
    "Observamos que la información viene para 'Female', 'Male' y 'All genders'."
   ]
  },
  {
   "cell_type": "code",
   "execution_count": null,
   "metadata": {},
   "outputs": [],
   "source": [
    "# Organizamos la información por país y por sexo:\n",
    "educacion_pais = educacion.groupby(['Reference Area', 'Sex'])\n",
    "\n",
    "# Podemos por ejemplo revisar la información para México:\n",
    "gender = 'Female' # Este parámetro permite elegir el sexo para la comparación.\n",
    "educacion_pais.get_group(('Mexico',gender))"
   ]
  },
  {
   "cell_type": "code",
   "execution_count": null,
   "metadata": {},
   "outputs": [],
   "source": [
    "# Este pequeño script es similar a lo que se había realizado antes.\n",
    "lista_paises_final2 = []\n",
    "for p in paises.groups.keys():\n",
    "    try:\n",
    "        e = educacion_pais.get_group((p, gender))\n",
    "        lista_paises_final2.append(p)\n",
    "    except KeyError:\n",
    "        continue\n",
    "        \n",
    "print('Lista final de países en ambos Dataframes : ', len(lista_paises_final2), '\\n')\n",
    "print(lista_paises_final2)"
   ]
  },
  {
   "cell_type": "code",
   "execution_count": null,
   "metadata": {},
   "outputs": [],
   "source": [
    "# Ahora creamos dos listas, una para la fertilidad y otra para el ingreso con los países a comparar:\n",
    "l_fertilidad2 = []\n",
    "l_educacion = []\n",
    "for p in lista_paises_final2:\n",
    "    l_fertilidad2.append(paises.get_group(p)['Value'].iloc[2])  # El lugar 2 corresponde a los datos para 2010\n",
    "    \n",
    "    e = educacion_pais.get_group((p, gender))\n",
    "    l_educacion.append(e['Observation Value'].iloc[0]) # Solo se tiene el dato para 2010\n",
    "\n",
    "print('\\nFertilidad: \\n', len(l_fertilidad2), l_fertilidad2)\n",
    "print('\\nEducacion: \\n', len(l_educacion), l_educacion)"
   ]
  },
  {
   "cell_type": "code",
   "execution_count": null,
   "metadata": {},
   "outputs": [],
   "source": [
    "fig = plt.figure(figsize=(10,6)) # Cambiamos el tamaño de la figura\n",
    "\n",
    "# Graficamos el nivel de eduación (eje $y$) en función de la fertilidad (eje $x$)\n",
    "plt.scatter(l_fertilidad2, l_educacion, marker='o', color='#DEDEDE', alpha=0.5) \n",
    "\n",
    "# Información adicional y títulos\n",
    "plt.title('fuente: http://data.un.org', loc='right', fontstyle='italic', fontsize=10, c='cyan')\n",
    "plt.suptitle(' Fertilidad vs Educación (mujer) ', y = 0.94, fontsize=14)\n",
    "    \n",
    "plt.grid(ls='--', lw=0.5, c='#AAAAAA')\n",
    "plt.xlabel('Fertilidad [No. de hijos por mujer]')\n",
    "plt.ylabel('% en tercer nivel educativo ({})'.format(gender))\n",
    "\n",
    "# Gráfica de los países elegido en el paso 5 usando puntos de colores y resaltados.\n",
    "for p, c in paises_colores.items():\n",
    "    try:\n",
    "        ip = lista_paises_final2.index(p)\n",
    "        plt.scatter(l_fertilidad[ip], l_educacion[ip], \n",
    "                    marker='o', s=100,\n",
    "                    facecolor=c, edgecolor='w', alpha=0.75,\n",
    "                    zorder=1000, label=p)\n",
    "    except ValueError:\n",
    "        continue\n",
    "\n",
    "plt.legend()"
   ]
  },
  {
   "cell_type": "markdown",
   "metadata": {},
   "source": [
    "- ¿Que podría mejorar de esta visualización? (colores, dimensiones, anotaciones, leyendas, etc)\n",
    "- ¿Podría realizar un ajuste de una curva a estos datos?\n",
    "- ¿Cree que los datos están correctos?"
   ]
  },
  {
   "cell_type": "markdown",
   "metadata": {},
   "source": [
    "### Paso 12.\n",
    "Combinar las tres variables: fertilidad, ingresos, educación, en una sola visualización."
   ]
  },
  {
   "cell_type": "code",
   "execution_count": null,
   "metadata": {},
   "outputs": [],
   "source": [
    "# Creamos una lista de países que tengan la información de las tres variables.\n",
    "lista_paises_final3 = []\n",
    "for p in lista_paises_final:\n",
    "    if p in lista_paises_final2:\n",
    "        lista_paises_final3.append(p)\n",
    "\n",
    "print(len(lista_paises_final3), lista_paises_final3)"
   ]
  },
  {
   "cell_type": "code",
   "execution_count": null,
   "metadata": {},
   "outputs": [],
   "source": [
    "# Ahora creamos tres listas para las variables fertilidad, ingreso y educación, para los \n",
    "# países de la lista anterior.\n",
    "lf = []\n",
    "li = []\n",
    "le = []\n",
    "for p in lista_paises_final3:\n",
    "    lf.append(paises.get_group(p)['Value'].iloc[2])  # El lugar 2 corresponde a los datos para 2010\n",
    "    li.append(ingreso_pais.get_group(p)['Value'].iloc[0]) # Solo se tiene el dato para 2010\n",
    "    e = educacion_pais.get_group((p, gender))\n",
    "    le.append(e['Observation Value'].iloc[0]) # Solo se tiene el dato para 2010\n",
    "    \n",
    "print('\\nFertilidad: \\n', len(lf), lf)\n",
    "print('\\nIngresos: \\n', len(li), li)\n",
    "print('\\nEducación: \\n', len(le), le)"
   ]
  },
  {
   "cell_type": "markdown",
   "metadata": {},
   "source": [
    "Hacemos la visualización usando la variable eduación como un valor para el área de los círculos que se van a graficar."
   ]
  },
  {
   "cell_type": "code",
   "execution_count": null,
   "metadata": {},
   "outputs": [],
   "source": [
    "fig = plt.figure(figsize=(10,6)) # Cambiamos el tamaño de la figura\n",
    "\n",
    "# Eje x: Fertilidad\n",
    "# Eje y: Ingresos\n",
    "# Area y color: Educación\n",
    "se = np.array(le) * 5\n",
    "max_se = np.max(se)\n",
    "color = [int(c) for c in se]\n",
    "scatter = plt.scatter(lf, li, marker='o', c=se, alpha=0.5, s=se, cmap=\"spring\") \n",
    "\n",
    "plt.title('fuente: http://data.un.org', loc='right', fontstyle='italic', fontsize=10, c='cyan')\n",
    "plt.suptitle(' Fertilidad vs Ingreso vs Educación ', y = 0.94, fontsize=14)\n",
    "    \n",
    "plt.grid(ls='--', lw=0.5, c='#AAAAAA')\n",
    "plt.xlabel('Fertilidad [No. de hijos por mujer]')\n",
    "plt.ylabel('Ingresos [USD/Año]')\n",
    "\n",
    "# Gráficamos el ajuste entre fertilidad e ingresos\n",
    "plt.plot(x, y, '--', c='#AAFFFF', lw=1.5, zorder=0, alpha=0.75,\n",
    "         label='fit: a={:5.3f}, b={:5.3}, c={:5.3f}'.format(popt[0], popt[1], popt[2]))\n",
    "\n",
    "# Identificamos algunos países en el gráfico\n",
    "ipm = lista_paises_final3.index('Mexico')\n",
    "plt.annotate('México', xy=(lf[ipm], li[ipm]), xytext=(5, 30000),\n",
    "             bbox=dict(boxstyle='round', facecolor='red', edgecolor='white', alpha=0.5, linewidth=1.1),\n",
    "             arrowprops=dict(arrowstyle='->', facecolor='white', edgecolor='white'),\n",
    "             fontsize=10, color='white', horizontalalignment='center')\n",
    "\n",
    "ipn = lista_paises_final3.index('Niger')\n",
    "plt.annotate('Nigeria', xy=(lf[ipn], li[ipn]), xytext=(7, 5000),\n",
    "             bbox=dict(boxstyle='round', facecolor='yellow', edgecolor='white', alpha=0.75, linewidth=1.1),\n",
    "             arrowprops=dict(arrowstyle='->', facecolor='white', edgecolor='white'),\n",
    "             fontsize=10, color='black', horizontalalignment='center')\n",
    "\n",
    "ipj = lista_paises_final3.index('China')\n",
    "plt.annotate('China', xy=(lf[ipj], li[ipj]), xytext=(1.5, 1000),\n",
    "             bbox=dict(boxstyle='round', facecolor='white', edgecolor='grey', alpha=0.75, linewidth=1.1),\n",
    "             arrowprops=dict(arrowstyle='->', facecolor='white', edgecolor='white'),\n",
    "             fontsize=10, color='red', horizontalalignment='center')\n",
    "\n",
    "# Agregamos un poco más de información\n",
    "plt.text(7, 40000, 'El área de cada círculo \\n representa el nivel \\n educativo del país',                   \n",
    "             transform=plt.gca().transData, \n",
    "             horizontalalignment='center', color='white',\n",
    "             bbox=dict(boxstyle='round', facecolor='green', edgecolor='white', alpha=0.5, linewidth=0.75)) \n",
    "\n",
    "# Usamos escala semilogarítmica\n",
    "plt.yscale('log')\n",
    "plt.ylim(1e2,1e5)\n",
    "plt.xlim(0.5,8)\n",
    "\n",
    "plt.savefig('fertilidad04_fert_ing_educ.pdf')"
   ]
  },
  {
   "cell_type": "code",
   "execution_count": null,
   "metadata": {},
   "outputs": [],
   "source": []
  }
 ],
 "metadata": {
  "kernelspec": {
   "display_name": "Python 3",
   "language": "python",
   "name": "python3"
  },
  "language_info": {
   "codemirror_mode": {
    "name": "ipython",
    "version": 3
   },
   "file_extension": ".py",
   "mimetype": "text/x-python",
   "name": "python",
   "nbconvert_exporter": "python",
   "pygments_lexer": "ipython3",
   "version": "3.8.8"
  }
 },
 "nbformat": 4,
 "nbformat_minor": 4
}
