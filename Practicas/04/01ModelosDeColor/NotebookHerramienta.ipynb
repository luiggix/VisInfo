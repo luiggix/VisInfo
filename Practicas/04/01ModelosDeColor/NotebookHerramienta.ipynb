{
 "cells": [
  {
   "cell_type": "markdown",
   "metadata": {},
   "source": [
    "## Importamos Bibliotecas"
   ]
  },
  {
   "cell_type": "code",
   "execution_count": 1,
   "metadata": {},
   "outputs": [],
   "source": [
    "import matplotlib.pyplot as plt\n",
    "from ipywidgets import interact, interactive\n",
    "import ipywidgets as widgets\n",
    "import random\n",
    "import numpy as np\n",
    "import colorsys\n",
    "import matplotlib.cm as cm"
   ]
  },
  {
   "cell_type": "markdown",
   "metadata": {},
   "source": [
    "## Funcion RGB"
   ]
  },
  {
   "cell_type": "code",
   "execution_count": 2,
   "metadata": {},
   "outputs": [],
   "source": [
    "def rgb(R,G,B):\n",
    "    '''rgb: Esta función recibe 3 valores en una escala de 0 a 255, que representan a los colores primarios\n",
    "    Red, Green y Blue, posteriormente dadas ciertas fórmulas el código procede a calcular para convertir\n",
    "    a las siguientes escalas, mediante matplotlib realiza el ploteo para visualizar el color.'''\n",
    "    r = R/255\n",
    "    g = G/255\n",
    "    b = B/255\n",
    "    color = np.zeros((1,1,3))\n",
    "    color[0,0,0]=r\n",
    "    color[0,0,1]=g\n",
    "    color[0,0,2]=b\n",
    "    plt.imshow(color)\n",
    "    plt.colorbar()\n",
    "    plt.show()\n",
    "    lista = [r,g,b]\n",
    "    K = 1 - max(lista)\n",
    "    C = (1 - r - K) / (1 - K)\n",
    "    M = (1 - g - K) / (1 - K)\n",
    "    Y = (1 - b - K) / (1 - K)\n",
    "    cmyk = [C,M,Y,K]\n",
    "    print(f\"\\nCMYK = ({C:.3f},{M:.3f},{Y:.3f},{K:.3f})\")\n",
    "    m = min(lista)\n",
    "    M = max(lista)\n",
    "    L = (1/2)*(M+m)\n",
    "    if L < 1:\n",
    "        S=(M-m)/(1-abs((2*L)-1))\n",
    "    if L == 1:\n",
    "        S=0\n",
    "    if r >= g and g >= b:\n",
    "        H = 60*((g-b)/(r-b))\n",
    "    if g > r and r >= b:\n",
    "        H = 60*(2-(r-b)/(g-b))\n",
    "    if g >= b and b > r:\n",
    "        H = 60*(2+(B-R)/(g-r))\n",
    "    if b > g and g > r:\n",
    "        H = 60*(4-(g-r)/(b-r))\n",
    "    if b > r and r >= g:\n",
    "        H = 60*(4+(r-g)/(b-g))\n",
    "    if r >= b and b > g:\n",
    "        H = 60*(6-(b-g)/(r-g))\n",
    "    HSL = [H,S,L]\n",
    "    print(f\"\\nHSL = ({H:.2f},{S:.2f},{L:.2f})\")\n",
    "    H,S,V = colorsys.rgb_to_hsv(R,G,B)    \n",
    "    HSV = np.zeros((1,1,3))\n",
    "    HSV[0,0,0]=H\n",
    "    HSV[0,0,1]=S\n",
    "    HSV[0,0,2]=V\n",
    "    print(f\"\\nHSV = ({H:.2f},{S:.2f},{V:.2f})\")\n",
    "#rgb(123,34,200)"
   ]
  },
  {
   "cell_type": "code",
   "execution_count": 3,
   "metadata": {},
   "outputs": [
    {
     "name": "stdout",
     "output_type": "stream",
     "text": [
      "Help on function rgb in module __main__:\n",
      "\n",
      "rgb(R, G, B)\n",
      "    rgb: Esta función recibe 3 valores en una escala de 0 a 255, que representan a los colores primarios\n",
      "    Red, Green y Blue, posteriormente dadas ciertas fórmulas el código procede a calcular para convertir\n",
      "    a las siguientes escalas, mediante matplotlib realiza el ploteo para visualizar el color.\n",
      "\n"
     ]
    }
   ],
   "source": [
    "help(rgb)"
   ]
  },
  {
   "cell_type": "markdown",
   "metadata": {},
   "source": [
    "## Funcíon CMYK"
   ]
  },
  {
   "cell_type": "code",
   "execution_count": 4,
   "metadata": {},
   "outputs": [],
   "source": [
    "def cmyk(C,M,Y,K):\n",
    "    '''CMYK: Esta función recibe 4 valores (C,M,Y,K), los cuales irán en un rango de 0 a 1, posteriormente se hará el\n",
    "    cálculo para la conversión de las demás escalas, Para visualizar el color dado, utilizamos matplotlib. '''\n",
    "    R = 255 * (1 - C) * (1 - K)\n",
    "    G = 255 * (1 - M) * (1 - K)\n",
    "    B = 255 * (1 - Y) * (1 - K)\n",
    "    color = np.zeros((1,1,3))\n",
    "    color[0,0,0]=R/255\n",
    "    color[0,0,1]=G/255\n",
    "    color[0,0,2]=B/255\n",
    "    plt.imshow(color)\n",
    "    plt.colorbar()\n",
    "    plt.show()\n",
    "    print(f\"\\nRGB = ({R:.2f},{G:.2f},{B:.2f})\")\n",
    "    r = R/255\n",
    "    g = G/255\n",
    "    b = B/255\n",
    "    lista = [r,g,b]\n",
    "    m = min(lista)\n",
    "    M = max(lista)\n",
    "    L = (1/2)*(M+m)\n",
    "    if L < 1:\n",
    "        S=(M-m)/(1-abs((2*L)-1))\n",
    "    if L == 1:\n",
    "        S=0\n",
    "    if r >= g and g >= b:\n",
    "        H = 60*((g-b)/(r-b))\n",
    "    if g > r and r >= b:\n",
    "        H = 60*(2-(r-b)/(g-b))\n",
    "    if g >= b and b > r:\n",
    "        H = 60*(2+(B-R)/(g-r))\n",
    "    if b > g and g > r:\n",
    "        H = 60*(4-(g-r)/(b-r))\n",
    "    if b > r and r >= g:\n",
    "        H = 60*(4+(r-g)/(b-g))\n",
    "    if r >= b and b > g:\n",
    "        H = 60*(6-(b-g)/(r-g))\n",
    "    HSL = [H,S,L]\n",
    "    print(f\"\\nHSL = ({H:.2f},{S:.2f},{L:.2f})\")\n",
    "    H,S,V = colorsys.rgb_to_hsv(R,G,B)    \n",
    "    HSV = np.zeros((1,1,3))\n",
    "    HSV[0,0,0]=H\n",
    "    HSV[0,0,1]=S\n",
    "    HSV[0,0,2]=V\n",
    "    print(f\"\\nHSV = ({H:.2f},{S:.2f},{V:.2f})\")"
   ]
  },
  {
   "cell_type": "markdown",
   "metadata": {},
   "source": [
    "## Función HSL"
   ]
  },
  {
   "cell_type": "code",
   "execution_count": 5,
   "metadata": {},
   "outputs": [],
   "source": [
    "def HSL(H,S,L):\n",
    "    '''HSL: Esta función  recibe 3 valores (H,S,L) los cuales van en un rango de 0 a 1\n",
    "    una vez dados estos valores procedemos a ralizar la conversión al resto de escalas\n",
    "    La visualización del color se realiza mediante Matplotlib, utiliza una librería llamada \n",
    "    colorsys para la conversión a RGB.'''\n",
    "    r,g,b = colorsys.hls_to_rgb(H,S,L)\n",
    "    lista = [r,g,b]\n",
    "    color = np.zeros((1,1,3))\n",
    "    color[0,0,0]=r\n",
    "    color[0,0,1]=g\n",
    "    color[0,0,2]=b\n",
    "    plt.imshow(color)\n",
    "    plt.colorbar()\n",
    "    plt.show()\n",
    "    print(f\"RGB = ({r*255:.2f},{g*255:.2f},{b*255:.2f})\")\n",
    "    h,s,v = colorsys.rgb_to_hsv(r,g,b)\n",
    "    HSV = np.zeros((1,1,3))\n",
    "    HSV[0,0,0]=h\n",
    "    HSV[0,0,1]=s\n",
    "    HSV[0,0,2]=v\n",
    "    print(f\"\\nHSV = ({h:.3f},{s:.3f},{v:.3f})\")\n",
    "    K = 1 - max(lista)\n",
    "    C = (1 - r - K) / (1 - K)\n",
    "    M = (1 - g - K) / (1 - K)\n",
    "    Y = (1 - b - K) / (1 - K)\n",
    "    print(f\"\\nCMYK = ({C:.3f},{M:.3f},{Y:.3f},{K:.3f})\")"
   ]
  },
  {
   "cell_type": "markdown",
   "metadata": {},
   "source": [
    "## Función HSV"
   ]
  },
  {
   "cell_type": "code",
   "execution_count": 6,
   "metadata": {},
   "outputs": [],
   "source": [
    "def HSV(H,S,V):\n",
    "    '''HSV: Esta función recibe 3 valores (H,S,V), una vez dado esto realiza\n",
    "    los cálculos necesarios para la obtención del resto de escalas, para la visualización\n",
    "    se utiliza matplotlib y para la obtención de valores RGB utilizamos la librería colorsys.7'''\n",
    "    R,G,B = colorsys.hsv_to_rgb(H,S,V)\n",
    "    Pixel = np.zeros((1,1,3))\n",
    "    Pixel[0,0,0]=R\n",
    "    Pixel[0,0,1]=G\n",
    "    Pixel[0,0,2]=B \n",
    "    plt.imshow(Pixel)\n",
    "    plt.colorbar()\n",
    "    plt.show()\n",
    "    print(f\"RGB = ({R*255:.2f},{G*255:.2f},{B*255:.2f})\")\n",
    "    r = R/255\n",
    "    g = G/255\n",
    "    b = B/255\n",
    "    lista = [r,g,b]\n",
    "    m = min(lista)\n",
    "    M = max(lista)\n",
    "    L = (1/2)*(M+m)\n",
    "    if L < 1:\n",
    "        S=(M-m)/(1-abs((2*L)-1))\n",
    "    if L == 1:\n",
    "        S=0\n",
    "    if r >= g and g >= b:\n",
    "        H = 60*((g-b)/(r-b))\n",
    "    if g > r and r >= b:\n",
    "        H = 60*(2-(r-b)/(g-b))\n",
    "    if g >= b and b > r:\n",
    "        H = 60*(2+(B-R)/(g-r))\n",
    "    if b > g and g > r:\n",
    "        H = 60*(4-(g-r)/(b-r))\n",
    "    if b > r and r >= g:\n",
    "        H = 60*(4+(r-g)/(b-g))\n",
    "    if r >= b and b > g:\n",
    "        H = 60*(6-(b-g)/(r-g))\n",
    "    HSL = [H,S,L]\n",
    "    print(f\"\\nHSL = ({H:.2f},{S:.2f},{L:.2f})\")\n",
    "    K = 1 - max(lista)\n",
    "    C = (1 - r - K) / (1 - K)\n",
    "    M = (1 - g - K) / (1 - K)\n",
    "    Y = (1 - b - K) / (1 - K)\n",
    "    print(f\"\\nCMYK = ({C:.3f},{M:.3f},{Y:.3f},{K:.3f})\")"
   ]
  },
  {
   "cell_type": "markdown",
   "metadata": {},
   "source": [
    "### Menú\n",
    "Para el Usuario, se dan 4 opciones para convertir los colores, en caso de colocar una opción fuera de estas 4 el programa enviará un mensaje de error."
   ]
  },
  {
   "cell_type": "code",
   "execution_count": 8,
   "metadata": {},
   "outputs": [
    {
     "name": "stdout",
     "output_type": "stream",
     "text": [
      " Desarrollado por\n",
      " Ortega Ibarra Jaime // Martiñon Luna Jonathan José.\n",
      "\n",
      " Esta Herramienta es capaz de convertir colores de una escala a otras\n",
      " 1) RGB\n",
      " 2) CMYK\n",
      " 3) HSL\n",
      " 4) HSV\n",
      "\n",
      " \n",
      "Ingresa el número de la escala que escala deseas convertir: 1\n"
     ]
    },
    {
     "data": {
      "application/vnd.jupyter.widget-view+json": {
       "model_id": "fd8fa4060db84acdb3a01c7e5674b4bb",
       "version_major": 2,
       "version_minor": 0
      },
      "text/plain": [
       "interactive(children=(IntSlider(value=2, description='R', max=255), IntSlider(value=1, description='G', max=25…"
      ]
     },
     "metadata": {},
     "output_type": "display_data"
    }
   ],
   "source": [
    "def menu():\n",
    "    '''@author Jaime Ortega / Jonathan Martiñon\n",
    "    Herramienta de conversión de colores.\n",
    "    Este programa fue realizado para la clase de Visualización de la información,\n",
    "    el es posible convertir de una escala de colores a otras escalas, tenemos 4 en específico:\n",
    "    RGB, CMYK, HSL y HSV, El usuario debe colocar que escala va a proporcionar, y el programa\n",
    "    en automático hará un ploteo para visualizar dicho color y posteriormente procederá\n",
    "    a mostrar en pantalla la conversión a las 3 escalas restantes.'''\n",
    "\n",
    "    print(\" Desarrollado por\\n Ortega Ibarra Jaime // Martiñon Luna Jonathan José.\\n\")\n",
    "\n",
    "    print(\" Esta Herramienta es capaz de convertir colores de una escala a otras\\n 1) RGB\\n 2) CMYK\\n 3) HSL\\n 4) HSV\\n\")\n",
    "\n",
    "    entrada = int(input(\" \\nIngresa el número de la escala que escala deseas convertir: \"))\n",
    "\n",
    "    if entrada <= 0 and entrada >= 5:\n",
    "\n",
    "        print(\"\\nError. Colocar una opción válida.\")\n",
    "\n",
    "    else:\n",
    "        if entrada == 1:\n",
    "            w = interactive(rgb, R=widgets.IntSlider(min=0, max=255, step=1, value=2), G=widgets.IntSlider(min=0, max=255, step=1, value=1), B=widgets.IntSlider(min=0, max=255, step=1, value=1))\n",
    "            display(w)\n",
    "        if entrada == 2:\n",
    "            w = interactive(cmyk, C=widgets.FloatSlider(min=0.0, max=1.0, step=0.01, value=0.5), M=widgets.FloatSlider(min=0.0, max=1.0, step=0.01, value=0.5), Y=widgets.FloatSlider(min=0.0, max=1.0, step=0.01, value=0.5),\n",
    "                           K=widgets.FloatSlider(min=0.0, max=1.0, step=0.01, value=0.5))\n",
    "            display(w)\n",
    "        if entrada == 3:\n",
    "            w = interactive(HSV, H=widgets.FloatSlider(min=0.0, max=1.0, step=0.01, value=0.5), S=widgets.FloatSlider(min=0.0, max=1.0, step=0.01, value=0.5), V=widgets.FloatSlider(min=0.0, max=1.0, step=0.01, value=0.5))\n",
    "            display(w)\n",
    "        if entrada == 4:\n",
    "            w = interactive(HSL, H=widgets.FloatSlider(min=0.0, max=1.0, step=0.01, value=0.5), S=widgets.FloatSlider(min=0.0, max=1.0, step=0.01, value=0.5), L=widgets.FloatSlider(min=0.0, max=1.0, step=0.01, value=0.5))\n",
    "            display(w)\n",
    "menu()"
   ]
  },
  {
   "cell_type": "code",
   "execution_count": null,
   "metadata": {},
   "outputs": [],
   "source": [
    "help(menu)"
   ]
  }
 ],
 "metadata": {
  "kernelspec": {
   "display_name": "Python 3",
   "language": "python",
   "name": "python3"
  },
  "language_info": {
   "codemirror_mode": {
    "name": "ipython",
    "version": 3
   },
   "file_extension": ".py",
   "mimetype": "text/x-python",
   "name": "python",
   "nbconvert_exporter": "python",
   "pygments_lexer": "ipython3",
   "version": "3.7.6"
  }
 },
 "nbformat": 4,
 "nbformat_minor": 2
}
