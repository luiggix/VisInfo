{
 "cells": [
  {
   "cell_type": "markdown",
   "metadata": {
    "colab_type": "text",
    "id": "02--Bfzb_6y_"
   },
   "source": [
    "# Paletas Brewer\n",
    "Cisneros Aguilar Sara Kenia\\\n",
    "Diaz Moreno Rodrigo"
   ]
  },
  {
   "cell_type": "code",
   "execution_count": 0,
   "metadata": {
    "colab": {},
    "colab_type": "code",
    "id": "5Ukf0eWh8C0z"
   },
   "outputs": [],
   "source": [
    "from IPython.display import clear_output\n",
    "import seaborn as sns\n",
    "import matplotlib.pyplot as plt\n",
    "import numpy as np"
   ]
  },
  {
   "cell_type": "code",
   "execution_count": 0,
   "metadata": {
    "colab": {},
    "colab_type": "code",
    "id": "AwmYPlQ78C1b"
   },
   "outputs": [],
   "source": [
    "def menu_principal(): \n",
    "    \"\"\"\n",
    "    Despliega el menú principal y retorna la opción elegida por el \n",
    "    usuario recibiendo un número entero como entrada\n",
    "    \"\"\"\n",
    "    print(\"0) Salir\")\n",
    "    print(\"1) Paleta Normal\")\n",
    "    print(\"2) Paleta colorblind friendly\")\n",
    "    opc=input(\"Ingresa la opcion: \")\n",
    "    clear_output()\n",
    "    return opc"
   ]
  },
  {
   "cell_type": "code",
   "execution_count": 0,
   "metadata": {
    "colab": {},
    "colab_type": "code",
    "id": "tMBA_ePl8C2C"
   },
   "outputs": [],
   "source": [
    "def submenu():\n",
    "    \"\"\"\n",
    "    Despliega el submenú y retorna la opción elegida por el \n",
    "    usuario recibiendo un número entero como entrada\n",
    "    \"\"\"\n",
    "    print(\"1) Paleta Divergente\")\n",
    "    print(\"2) Paleta Secuencial\")\n",
    "    print(\"3) Paleta Cualitativa\")\n",
    "    opc=input(\"Ingresa la opcion: \")\n",
    "    clear_output()\n",
    "    return opc"
   ]
  },
  {
   "cell_type": "code",
   "execution_count": 0,
   "metadata": {
    "colab": {},
    "colab_type": "code",
    "id": "EZxo8VaS8C2b"
   },
   "outputs": [],
   "source": [
    "def divergente():\n",
    "    \"\"\"\n",
    "    Despliega las opciónes para escoger una paleta tipo divergente y retorna la opción elegida por el \n",
    "    usuario recibiendo un núúmero entero como entrada\n",
    "    \"\"\"\n",
    "    print(\"1) Escoger paleta\")\n",
    "    print(\"2) Crear paleta\")\n",
    "    opc=input(\"Ingresa la opcion: \")\n",
    "    clear_output()\n",
    "    return opc"
   ]
  },
  {
   "cell_type": "code",
   "execution_count": 0,
   "metadata": {
    "colab": {},
    "colab_type": "code",
    "id": "Uxe5vjVz8C2w"
   },
   "outputs": [],
   "source": [
    "def paleta_div():\n",
    "    \"\"\"\n",
    "    Muestra las diferentes combinaciones de color para una paleta de tipo divergente, \n",
    "    regresando la combinacion escogida, mediante un número entero como entrada.\n",
    "    \"\"\"\n",
    "    lista=[\"BrBG\",\"RdBu_r\",\"coolwarm\",\"YlGnBu\"]\n",
    "    plt.figure(1)\n",
    "    sns.palplot(sns.color_palette(\"BrBG\", 7))\n",
    "    plt.title(\"1) Paleta BrBG\")\n",
    "    plt.figure(2)\n",
    "    sns.palplot(sns.color_palette(\"RdBu_r\", 7))\n",
    "    plt.title(\"2) Paleta RdBu_r\")\n",
    "    plt.figure(3)\n",
    "    sns.palplot(sns.color_palette(\"coolwarm\", 7))\n",
    "    plt.title(\"3) Paleta coolwarm\")\n",
    "    plt.figure(4)\n",
    "    sns.palplot(sns.color_palette(\"YlGnBu\", 7))\n",
    "    plt.title(\"4) Paleta YlGnBu\")\n",
    "    plt.show()\n",
    "    opc=int(input(\"Ingresa el numero de la opcion: \"))\n",
    "    sns.set_palette(lista[opc-1])"
   ]
  },
  {
   "cell_type": "code",
   "execution_count": 0,
   "metadata": {
    "colab": {},
    "colab_type": "code",
    "id": "TYpFOoDh8C3P"
   },
   "outputs": [],
   "source": [
    "def creacion_div():\n",
    "    \"\"\"\n",
    "    Configura una paleta de tipo divergente basado en colores del conjunto hus1\n",
    "\n",
    "    Parametros:\n",
    "    c1 -- primer color (en grados del sistema de colores hus1)\n",
    "    c2 -- segundo color (en grados del sistema de colores hus1)\n",
    "    s  -- saturacíon del color \n",
    "    l  -- luminocidad del color\n",
    "    \"\"\"\n",
    "    c1=int(input(\"Ingrese el grado del color 1: \"))\n",
    "    c2=int(input(\"Ingrese el grado del color 2: \"))\n",
    "    s=int(input(\"Ingrese la saturacion: \"))\n",
    "    l=int(input(\"Ingrese la luminocidad: \"))\n",
    "    color=sns.diverging_palette(c1, c2, s=s, l=l, n=7)\n",
    "    sns.palplot(color)\n",
    "    plt.title(\"Paleta creada\")\n",
    "    sns.set_palette(color)"
   ]
  },
  {
   "cell_type": "code",
   "execution_count": 0,
   "metadata": {
    "colab": {},
    "colab_type": "code",
    "id": "kF8-r_PR8C3l"
   },
   "outputs": [],
   "source": [
    "def secuencial():\n",
    "    \"\"\"\n",
    "    Despliega las opciónes para escoger una paleta tipo secuencial y retorna la opción elegida por el \n",
    "    usuario recibiendo un número entero como entrada\n",
    "    \"\"\"\n",
    "    print(\"1) Escoger paleta\")\n",
    "    print(\"2) Crear paleta\")\n",
    "    opc=input(\"Ingresa la opcion: \")\n",
    "    clear_output()\n",
    "    return opc"
   ]
  },
  {
   "cell_type": "code",
   "execution_count": 0,
   "metadata": {
    "colab": {},
    "colab_type": "code",
    "id": "_SZQQ3Aw8C34"
   },
   "outputs": [],
   "source": [
    "def paleta_sec():\n",
    "    \"\"\"\n",
    "    Muestra las diferentes combinaciones de color para una paleta de tipo secuencial, \n",
    "    regresando la combinacion escogida, mediante un número entero como entrada.\n",
    "    \"\"\"\n",
    "    lista=[\"Blues\",\"BuGn\",\"Oranges\",\"Greys\"]\n",
    "    plt.figure(1)\n",
    "    sns.palplot(sns.color_palette(\"Blues\",7))\n",
    "    plt.title(\"1) Paleta Blues\")\n",
    "    plt.figure(2)\n",
    "    sns.palplot(sns.color_palette(\"BuGn\",7))\n",
    "    plt.title(\"2) Paleta BuGn\")\n",
    "    plt.figure(3)\n",
    "    sns.palplot(sns.color_palette(\"Oranges\", 7))\n",
    "    plt.title(\"3) Paleta Oranges\")\n",
    "    plt.figure(4)\n",
    "    sns.palplot(sns.color_palette(\"Greys\", 7))\n",
    "    plt.title(\"4) Paleta Greys\")\n",
    "    plt.show()\n",
    "    opc=int(input(\"Ingresa el numero de la opcion: \"))\n",
    "    sns.set_palette(lista[opc-1])"
   ]
  },
  {
   "cell_type": "code",
   "execution_count": 0,
   "metadata": {
    "colab": {},
    "colab_type": "code",
    "id": "bK3q3Spr8C4J"
   },
   "outputs": [],
   "source": [
    "def creacion_sec():\n",
    "    \"\"\"\n",
    "    Configura una paleta de tipo secuencial basado en colores del conjunto hus1\n",
    "\n",
    "    Parametros:\n",
    "    c1 -- color (en grados del sistema de colores hus1)\n",
    "    l  -- luminocidad de la paleta\n",
    "    \"\"\"\n",
    "    c1=int(input(\"Ingrese el grado del color: \"))\n",
    "    l=int(input(\"Ingrese la luminocidad: \"))\n",
    "    l=l/100\n",
    "    color=sns.cubehelix_palette(7, start=c1, rot=0, light=l, reverse=False)\n",
    "    sns.palplot(color)\n",
    "    plt.title(\"Paleta creada\")\n",
    "    sns.set_palette(color)"
   ]
  },
  {
   "cell_type": "code",
   "execution_count": 0,
   "metadata": {
    "colab": {},
    "colab_type": "code",
    "id": "Vg5iCU0M8C4g"
   },
   "outputs": [],
   "source": [
    "def cualitativo():\n",
    "    \"\"\"\n",
    "    Despliega las opciónes para escoger una paleta tipo cualitativo y retorna la opción elegida por el \n",
    "    usuario recibiendo un número entero como entrada\n",
    "    \"\"\"\n",
    "    print(\"1) Escoger paleta\")\n",
    "    print(\"2) Crear paleta\")\n",
    "    opc=input(\"Ingresa la opcion: \")\n",
    "    clear_output()\n",
    "    return opc"
   ]
  },
  {
   "cell_type": "code",
   "execution_count": 0,
   "metadata": {
    "colab": {},
    "colab_type": "code",
    "id": "fpPeUJMC8C45"
   },
   "outputs": [],
   "source": [
    "def paleta_cual():\n",
    "    \"\"\"\n",
    "    Muestra las diferentes combinaciones de color para una paleta de tipo cualitativo, \n",
    "    regresando la combinacion escogida, mediante un número entero como entrada.\n",
    "    \"\"\"\n",
    "    lista=[\"pastel\",\"Paired\",\"Set1\",\"Set2\"]\n",
    "    plt.figure(1)\n",
    "    sns.palplot(sns.color_palette(\"pastel\",7))\n",
    "    plt.title(\"1) Paleta pastel\")\n",
    "    plt.figure(2)\n",
    "    sns.palplot(sns.color_palette(\"Paired\",7))\n",
    "    plt.title(\"2) Paleta Paired\")\n",
    "    plt.figure(3)\n",
    "    sns.palplot(sns.color_palette(\"Set1\", 7))\n",
    "    plt.title(\"3) Paleta Set1\")\n",
    "    plt.figure(4)\n",
    "    sns.palplot(sns.color_palette(\"Set2\", 7))\n",
    "    plt.title(\"4) Paleta Set2\")\n",
    "    plt.show()\n",
    "    opc=int(input(\"Ingresa el numero de la opcion: \"))\n",
    "    sns.set_palette(lista[opc-1])"
   ]
  },
  {
   "cell_type": "code",
   "execution_count": 0,
   "metadata": {
    "colab": {},
    "colab_type": "code",
    "id": "s74KNehf8C5T"
   },
   "outputs": [],
   "source": [
    "def creacion_cual():\n",
    "    \"\"\"\n",
    "    Configura una paleta de tipo cualitativo\n",
    "    \n",
    "    Parámetros:\n",
    "    l -- lista de colores en formato hexadecimal\n",
    "    \"\"\"\n",
    "    l=input(\"Ingrese los colores en formato hexadecimal, separados por espacios: \")\n",
    "    color=sns.color_palette(l.split())\n",
    "    sns.palplot(color)\n",
    "    plt.title(\"Paleta creada\")\n",
    "    sns.set_palette(color)"
   ]
  },
  {
   "cell_type": "code",
   "execution_count": 0,
   "metadata": {
    "colab": {},
    "colab_type": "code",
    "id": "c7xUbP9X8C5y"
   },
   "outputs": [],
   "source": [
    "def run():\n",
    "    \"\"\"\n",
    "    Permite ingresar a un menú de selección de paletas de color\n",
    "    \n",
    "    Estructura general:\n",
    "\n",
    "    0 -- termina el programa\n",
    "    1 -- opciones para paletas dirigidas a personas sin discapacidad visual\n",
    "    2 -- configura la paleta de colores dirirgida a personas con discapacidad visual\n",
    "    \"\"\"\n",
    "    salir=False\n",
    "    while not(salir):\n",
    "        opcion=menu_principal()\n",
    "\n",
    "        if opcion==\"0\":# Salir\n",
    "            salir=True\n",
    "\n",
    "        if opcion== \"1\":#Paleta Normal\n",
    "            op=submenu()\n",
    "\n",
    "            if op == \"1\":#Paleta Divergente\n",
    "                opc=divergente()\n",
    "\n",
    "                if opc== \"1\":# Escoger paleta\n",
    "                    paleta_div()\n",
    "                    print(\"Paleta Seleccionada\")\n",
    "                    break\n",
    "\n",
    "                if opc== \"2\":#Crear paleta\n",
    "                    creacion_div()\n",
    "                    print(\"Paleta Seleccionada\")\n",
    "                    break\n",
    "            if op==\"2\":#Paleta Secuencial\n",
    "                opc=secuencial()\n",
    "\n",
    "                if opc==\"1\":#Escoger paleta\n",
    "                    paleta_sec()\n",
    "                    print(\"Paleta Seleccionada\")\n",
    "                    break\n",
    "                if opc==\"2\":#Crear paleta\n",
    "                    creacion_sec()\n",
    "                    print(\"Paleta Seleccionada\")\n",
    "                    break\n",
    "\n",
    "            if op==\"3\":#Paleta Cualitativa\n",
    "                opc=cualitativo()\n",
    "\n",
    "                if opc==\"1\":#Escoger paleta\n",
    "                    paleta_cual()\n",
    "                    print(\"Paleta Seleccionada\")\n",
    "                    break\n",
    "                if opc==\"2\":#Crear paleta\n",
    "                    creacion_cual()\n",
    "                    print(\"Paleta Seleccionada\")\n",
    "                    break\n",
    "        if opcion==\"2\":#Paleta colorblind\n",
    "            color=sns.color_palette(\"colorblind\",7)\n",
    "            sns.set_palette(color)\n",
    "            sns.palplot(color)\n",
    "            plt.title(\"Paleta colorblind\")\n",
    "            print(\"Paleta Seleccionada\")\n",
    "            break\n",
    "            \n",
    "    print(\"¡Vuelva pronto!\")"
   ]
  }
 ],
 "metadata": {
  "colab": {
   "collapsed_sections": [],
   "name": "paleta_brewer.ipynb",
   "provenance": []
  },
  "kernelspec": {
   "display_name": "Python 3",
   "language": "python",
   "name": "python3"
  },
  "language_info": {
   "codemirror_mode": {
    "name": "ipython",
    "version": 3
   },
   "file_extension": ".py",
   "mimetype": "text/x-python",
   "name": "python",
   "nbconvert_exporter": "python",
   "pygments_lexer": "ipython3",
   "version": "3.7.6"
  }
 },
 "nbformat": 4,
 "nbformat_minor": 1
}
